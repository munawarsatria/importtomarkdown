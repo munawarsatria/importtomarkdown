{
  "nbformat": 4,
  "nbformat_minor": 0,
  "metadata": {
    "colab": {
      "provenance": []
    },
    "kernelspec": {
      "name": "python3",
      "display_name": "Python 3"
    },
    "language_info": {
      "name": "python"
    }
  },
  "cells": [
    {
      "cell_type": "code",
      "execution_count": 2,
      "metadata": {
        "colab": {
          "base_uri": "https://localhost:8080/"
        },
        "id": "aFqrJJeGKKlB",
        "outputId": "6bd74022-17ec-4f33-cd10-2702f62262b6"
      },
      "outputs": [
        {
          "output_type": "stream",
          "name": "stdout",
          "text": [
            "Collecting pymupdf4llm\n",
            "  Downloading pymupdf4llm-0.0.24-py3-none-any.whl.metadata (4.7 kB)\n",
            "Collecting pymupdf>=1.25.5 (from pymupdf4llm)\n",
            "  Downloading pymupdf-1.25.5-cp39-abi3-manylinux2014_x86_64.manylinux_2_17_x86_64.whl.metadata (3.4 kB)\n",
            "Downloading pymupdf4llm-0.0.24-py3-none-any.whl (28 kB)\n",
            "Downloading pymupdf-1.25.5-cp39-abi3-manylinux2014_x86_64.manylinux_2_17_x86_64.whl (20.0 MB)\n",
            "\u001b[2K   \u001b[90m━━━━━━━━━━━━━━━━━━━━━━━━━━━━━━━━━━━━━━━━\u001b[0m \u001b[32m20.0/20.0 MB\u001b[0m \u001b[31m64.8 MB/s\u001b[0m eta \u001b[36m0:00:00\u001b[0m\n",
            "\u001b[?25hInstalling collected packages: pymupdf, pymupdf4llm\n",
            "Successfully installed pymupdf-1.25.5 pymupdf4llm-0.0.24\n"
          ]
        }
      ],
      "source": [
        "\"\"\"\n",
        "!pip install markitdown #DOCX & XLSX CONVERTER (MarkItDown)\n",
        "\"\"\"\n",
        "!pip install pymupdf4llm #PDF CONVERTER (pymupdf4llm)\n"
      ]
    },
    {
      "cell_type": "code",
      "source": [
        "#PDF CONVERTER (pymupdf4llm)\n",
        "\n",
        "import pymupdf4llm\n",
        "\n",
        "fname = \"hypertension patophysiology\"\n",
        "\n",
        "result = pymupdf4llm.to_markdown(f\"{fname}.pdf\")\n",
        "\n",
        "with open(f'{fname}.md', 'w', encoding='utf-8') as f:\n",
        "    f.write(result)"
      ],
      "metadata": {
        "id": "NrnK6O7kLdXz"
      },
      "execution_count": 3,
      "outputs": []
    },
    {
      "cell_type": "code",
      "source": [
        "#DOCX CONVERTER (MarkItDown)\n",
        "\"\"\"\n",
        "from markitdown import MarkItDown\n",
        "md = MarkItDown()\n",
        "\n",
        "fname =\n",
        "\n",
        "result = md.convert(f\"{fname}.docx\")\n",
        "result.markdown\n",
        "\n",
        "with open(f'{fname}.md', 'w', encoding='utf-8') as f:\n",
        "    f.write(result.markdown)"
      ],
      "metadata": {
        "id": "G6rfZZWbXIjo"
      },
      "execution_count": null,
      "outputs": []
    },
    {
      "cell_type": "code",
      "source": [
        "#XLSX CONVERTER (MarkItDown)\n",
        "\"\"\"\n",
        "from markitdown import MarkItDown\n",
        "md = MarkItDown()\n",
        "\n",
        "fname =\n",
        "\n",
        "result = md.convert(f\"{fname}.xlsx\")\n",
        "result.markdown\n",
        "\n",
        "with open(f'{fname}.md', 'w', encoding='utf-8') as f:\n",
        "    f.write(result.markdown)"
      ],
      "metadata": {
        "id": "ZSUBPYsFYuWN"
      },
      "execution_count": null,
      "outputs": []
    }
  ]
}